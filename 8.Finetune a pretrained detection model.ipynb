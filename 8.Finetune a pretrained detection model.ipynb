{
 "cells": [
  {
   "cell_type": "markdown",
   "metadata": {},
   "source": [
    "### 1.导入相关包"
   ]
  },
  {
   "cell_type": "code",
   "execution_count": 1,
   "metadata": {
    "ExecuteTime": {
     "end_time": "2018-11-15T08:10:31.314991Z",
     "start_time": "2018-11-15T08:10:30.311191Z"
    },
    "collapsed": true
   },
   "outputs": [],
   "source": [
    "import time\n",
    "from matplotlib import pyplot as plt\n",
    "import numpy as np\n",
    "import mxnet as mx\n",
    "from mxnet import autograd, gluon\n",
    "import gluoncv as gcv\n",
    "from gluoncv.utils import download, viz"
   ]
  },
  {
   "cell_type": "markdown",
   "metadata": {},
   "source": [
    "### 2.自定义VOCLike装载自定义数据集"
   ]
  },
  {
   "cell_type": "code",
   "execution_count": 2,
   "metadata": {
    "ExecuteTime": {
     "end_time": "2018-11-15T08:10:31.319782Z",
     "start_time": "2018-11-15T08:10:31.316701Z"
    },
    "collapsed": true
   },
   "outputs": [],
   "source": [
    "from gluoncv.data import VOCDetection\n",
    "class VOCLike(VOCDetection):\n",
    "    CLASSES = ['tiger_beetle', 'scarab','stinkbug','moth']\n",
    "    def __init__(self, root, splits, transform=None, index_map=None, preload_label=True):\n",
    "        super(VOCLike, self).__init__(root, splits, transform, index_map, preload_label)\n",
    "\n",
    "\n",
    "gpu_ctx = mx.gpu(0)"
   ]
  },
  {
   "cell_type": "code",
   "execution_count": 3,
   "metadata": {
    "ExecuteTime": {
     "end_time": "2018-11-15T08:10:33.836537Z",
     "start_time": "2018-11-15T08:10:33.751041Z"
    }
   },
   "outputs": [
    {
     "name": "stdout",
     "output_type": "stream",
     "text": [
      "length of dataset: 378\n",
      "label example:\n",
      "[[ 326.  832.  464.  968.    3.    0.]\n",
      " [ 856. 1809.  982. 1953.    3.    0.]\n",
      " [ 509. 1785.  638. 1953.    3.    0.]\n",
      " [ 891. 1979. 1067. 2103.    3.    0.]\n",
      " [ 956. 1824. 1282. 2091.    3.    0.]\n",
      " [1214. 2291. 1323. 2441.    3.    0.]\n",
      " [ 782. 2294. 1012. 2447.    3.    0.]]\n"
     ]
    }
   ],
   "source": [
    "with mx.Context(gpu_ctx):\n",
    "\n",
    "    dataset = VOCLike(root='~/.mxnet/datasets/voc', splits=((2007, 'trainval'),))\n",
    "    print('length of dataset:', len(dataset))\n",
    "    print('label example:')\n",
    "    print(dataset[0][1])"
   ]
  },
  {
   "cell_type": "code",
   "execution_count": 4,
   "metadata": {
    "ExecuteTime": {
     "end_time": "2018-11-15T08:10:36.977798Z",
     "start_time": "2018-11-15T08:10:36.967827Z"
    }
   },
   "outputs": [
    {
     "data": {
      "text/plain": [
       "['tiger_beetle', 'scarab', 'stinkbug', 'moth']"
      ]
     },
     "execution_count": 4,
     "metadata": {},
     "output_type": "execute_result"
    }
   ],
   "source": [
    "VOCLike.CLASSES"
   ]
  },
  {
   "cell_type": "code",
   "execution_count": null,
   "metadata": {
    "ExecuteTime": {
     "end_time": "2018-11-15T08:04:39.427551Z",
     "start_time": "2018-11-15T08:04:39.423673Z"
    },
    "collapsed": true
   },
   "outputs": [],
   "source": [
    "# net = gcv.model_zoo.get_model('faster_rcnn_resnet50_v1b_custom', classes=['tiger_beetle', 'scarab', 'stinkbug', 'moth'], pretrained=False)\n"
   ]
  },
  {
   "cell_type": "code",
   "execution_count": 5,
   "metadata": {
    "ExecuteTime": {
     "end_time": "2018-11-15T08:10:40.773102Z",
     "start_time": "2018-11-15T08:10:38.378279Z"
    }
   },
   "outputs": [
    {
     "name": "stderr",
     "output_type": "stream",
     "text": [
      "/root/.local/lib/python3.5/site-packages/mxnet/gluon/block.py:421: UserWarning: load_params is deprecated. Please use load_parameters.\n",
      "  warnings.warn(\"load_params is deprecated. Please use load_parameters.\")\n"
     ]
    }
   ],
   "source": [
    "with mx.Context(gpu_ctx):\n",
    "\n",
    "    net = gcv.model_zoo.get_model('ssd_512_resnet50_v1_voc', pretrained=True)\n",
    "# net = gcv.model_zoo.get_model('faster_rcnn_resnet50_v1b_voc', pretrained=True)"
   ]
  },
  {
   "cell_type": "code",
   "execution_count": 6,
   "metadata": {
    "ExecuteTime": {
     "end_time": "2018-11-15T08:10:44.455148Z",
     "start_time": "2018-11-15T08:10:44.439160Z"
    },
    "collapsed": true
   },
   "outputs": [],
   "source": [
    "net.reset_class(['tiger_beetle', 'scarab', 'stinkbug', 'moth'])"
   ]
  },
  {
   "cell_type": "code",
   "execution_count": 7,
   "metadata": {
    "ExecuteTime": {
     "end_time": "2018-11-15T08:10:48.728223Z",
     "start_time": "2018-11-15T08:10:47.126350Z"
    }
   },
   "outputs": [
    {
     "name": "stderr",
     "output_type": "stream",
     "text": [
      "/root/.local/lib/python3.5/site-packages/mxnet/gluon/block.py:421: UserWarning: load_params is deprecated. Please use load_parameters.\n",
      "  warnings.warn(\"load_params is deprecated. Please use load_parameters.\")\n"
     ]
    }
   ],
   "source": [
    "with mx.Context(gpu_ctx):\n",
    "\n",
    "    net = gcv.model_zoo.get_model('ssd_512_resnet50_v1_custom', ctx=gpu_ctx, classes = VOCLike.CLASSES,\n",
    "        pretrained_base=False, transfer='voc')\n",
    "\n",
    "#  gpu_ctx\n",
    "# net = gcv.model_zoo.get_model('faster_rcnn_resnet50_v1b_custom', ctx=mx.gpu(0), classes = VOCLike.CLASSES,\n",
    "#     pretrained_base=False, transfer='voc')"
   ]
  },
  {
   "cell_type": "markdown",
   "metadata": {},
   "source": [
    "### 3.finetune训练新网络"
   ]
  },
  {
   "cell_type": "code",
   "execution_count": null,
   "metadata": {
    "ExecuteTime": {
     "end_time": "2018-11-15T08:04:52.537292Z",
     "start_time": "2018-11-15T08:04:52.533289Z"
    },
    "collapsed": true
   },
   "outputs": [],
   "source": [
    "# from gluoncv.data.transforms.presets.rcnn import FasterRCNNDefaultTrainTransform"
   ]
  },
  {
   "cell_type": "code",
   "execution_count": 8,
   "metadata": {
    "ExecuteTime": {
     "end_time": "2018-11-15T08:10:51.148325Z",
     "start_time": "2018-11-15T08:10:51.138887Z"
    },
    "collapsed": true
   },
   "outputs": [],
   "source": [
    "def get_dataloader(net, train_dataset, data_shape, batch_size, num_workers):\n",
    "    from gluoncv.data.batchify import Tuple, Stack, Pad\n",
    "    from gluoncv.data.transforms.presets.ssd import SSDDefaultTrainTransform\n",
    "    width, height = data_shape, data_shape\n",
    "    # use fake data to generate fixed anchors for target generation\n",
    "    with autograd.train_mode():\n",
    "        _, _, anchors = net(mx.nd.zeros((1, 3, height, width)))\n",
    "    batchify_fn = Tuple(Stack(), Stack(), Stack())  # stack image, cls_targets, box_targets\n",
    "    train_loader = gluon.data.DataLoader(\n",
    "        train_dataset.transform(SSDDefaultTrainTransform(width, height, anchors)),\n",
    "        batch_size, True, batchify_fn=batchify_fn, last_batch='rollover', num_workers=num_workers)\n",
    "    return train_loader\n",
    "\n",
    "\n"
   ]
  },
  {
   "cell_type": "code",
   "execution_count": null,
   "metadata": {
    "ExecuteTime": {
     "end_time": "2018-11-15T07:27:16.491493Z",
     "start_time": "2018-11-15T07:27:16.480397Z"
    },
    "collapsed": true
   },
   "outputs": [],
   "source": [
    "# net.collect_params().reset_ctx(ctx)"
   ]
  },
  {
   "cell_type": "code",
   "execution_count": null,
   "metadata": {
    "ExecuteTime": {
     "end_time": "2018-11-15T07:57:13.738260Z",
     "start_time": "2018-11-15T07:57:13.732678Z"
    },
    "collapsed": true
   },
   "outputs": [],
   "source": [
    "# with mx.context.Context(mx.gpu(0)):\n",
    "#     gpu_arr = mx.nd.ones((2,3))\n",
    "\n"
   ]
  },
  {
   "cell_type": "code",
   "execution_count": null,
   "metadata": {
    "ExecuteTime": {
     "end_time": "2018-11-15T07:57:59.698959Z",
     "start_time": "2018-11-15T07:57:59.693009Z"
    },
    "collapsed": true
   },
   "outputs": [],
   "source": [
    "# mx.context.current_context()"
   ]
  },
  {
   "cell_type": "code",
   "execution_count": 9,
   "metadata": {
    "ExecuteTime": {
     "end_time": "2018-11-15T08:10:59.998649Z",
     "start_time": "2018-11-15T08:10:59.966545Z"
    },
    "collapsed": true
   },
   "outputs": [],
   "source": [
    "# net.collect_params().reset_ctx(gpu_ctx)\n",
    "\n",
    "with mx.Context(gpu_ctx):\n",
    "\n",
    "    train_data = get_dataloader(net, dataset, 512, 16, 0)"
   ]
  },
  {
   "cell_type": "code",
   "execution_count": 10,
   "metadata": {
    "ExecuteTime": {
     "end_time": "2018-11-15T08:11:02.507975Z",
     "start_time": "2018-11-15T08:11:02.502541Z"
    },
    "collapsed": true
   },
   "outputs": [],
   "source": [
    "try:\n",
    "    a = mx.nd.zeros((1,), ctx=mx.gpu(0))\n",
    "    ctx = gpu_ctx\n",
    "except:\n",
    "    ctx = [mx.cpu()]"
   ]
  },
  {
   "cell_type": "code",
   "execution_count": 11,
   "metadata": {
    "ExecuteTime": {
     "end_time": "2018-11-15T08:11:17.138621Z",
     "start_time": "2018-11-15T08:11:03.249752Z"
    }
   },
   "outputs": [
    {
     "ename": "TypeError",
     "evalue": "object of type 'Context' has no len()",
     "output_type": "error",
     "traceback": [
      "\u001b[0;31m---------------------------------------------------------------------------\u001b[0m",
      "\u001b[0;31mTypeError\u001b[0m                                 Traceback (most recent call last)",
      "\u001b[0;32m<ipython-input-11-be69e06c1b9e>\u001b[0m in \u001b[0;36m<module>\u001b[0;34m()\u001b[0m\n\u001b[1;32m     23\u001b[0m         \u001b[0;32mfor\u001b[0m \u001b[0mi\u001b[0m\u001b[0;34m,\u001b[0m \u001b[0mbatch\u001b[0m \u001b[0;32min\u001b[0m \u001b[0menumerate\u001b[0m\u001b[0;34m(\u001b[0m\u001b[0mtrain_data\u001b[0m\u001b[0;34m)\u001b[0m\u001b[0;34m:\u001b[0m\u001b[0;34m\u001b[0m\u001b[0m\n\u001b[1;32m     24\u001b[0m             \u001b[0mbatch_size\u001b[0m \u001b[0;34m=\u001b[0m \u001b[0mbatch\u001b[0m\u001b[0;34m[\u001b[0m\u001b[0;36m0\u001b[0m\u001b[0;34m]\u001b[0m\u001b[0;34m.\u001b[0m\u001b[0mshape\u001b[0m\u001b[0;34m[\u001b[0m\u001b[0;36m0\u001b[0m\u001b[0;34m]\u001b[0m\u001b[0;34m\u001b[0m\u001b[0m\n\u001b[0;32m---> 25\u001b[0;31m             \u001b[0mdata\u001b[0m \u001b[0;34m=\u001b[0m \u001b[0mgluon\u001b[0m\u001b[0;34m.\u001b[0m\u001b[0mutils\u001b[0m\u001b[0;34m.\u001b[0m\u001b[0msplit_and_load\u001b[0m\u001b[0;34m(\u001b[0m\u001b[0mbatch\u001b[0m\u001b[0;34m[\u001b[0m\u001b[0;36m0\u001b[0m\u001b[0;34m]\u001b[0m\u001b[0;34m,\u001b[0m \u001b[0mctx_list\u001b[0m\u001b[0;34m=\u001b[0m\u001b[0mctx\u001b[0m\u001b[0;34m,\u001b[0m \u001b[0mbatch_axis\u001b[0m\u001b[0;34m=\u001b[0m\u001b[0;36m0\u001b[0m\u001b[0;34m)\u001b[0m\u001b[0;34m\u001b[0m\u001b[0m\n\u001b[0m\u001b[1;32m     26\u001b[0m             \u001b[0mcls_targets\u001b[0m \u001b[0;34m=\u001b[0m \u001b[0mgluon\u001b[0m\u001b[0;34m.\u001b[0m\u001b[0mutils\u001b[0m\u001b[0;34m.\u001b[0m\u001b[0msplit_and_load\u001b[0m\u001b[0;34m(\u001b[0m\u001b[0mbatch\u001b[0m\u001b[0;34m[\u001b[0m\u001b[0;36m1\u001b[0m\u001b[0;34m]\u001b[0m\u001b[0;34m,\u001b[0m \u001b[0mctx_list\u001b[0m\u001b[0;34m=\u001b[0m\u001b[0mctx\u001b[0m\u001b[0;34m,\u001b[0m \u001b[0mbatch_axis\u001b[0m\u001b[0;34m=\u001b[0m\u001b[0;36m0\u001b[0m\u001b[0;34m)\u001b[0m\u001b[0;34m\u001b[0m\u001b[0m\n\u001b[1;32m     27\u001b[0m             \u001b[0mbox_targets\u001b[0m \u001b[0;34m=\u001b[0m \u001b[0mgluon\u001b[0m\u001b[0;34m.\u001b[0m\u001b[0mutils\u001b[0m\u001b[0;34m.\u001b[0m\u001b[0msplit_and_load\u001b[0m\u001b[0;34m(\u001b[0m\u001b[0mbatch\u001b[0m\u001b[0;34m[\u001b[0m\u001b[0;36m2\u001b[0m\u001b[0;34m]\u001b[0m\u001b[0;34m,\u001b[0m \u001b[0mctx_list\u001b[0m\u001b[0;34m=\u001b[0m\u001b[0mctx\u001b[0m\u001b[0;34m,\u001b[0m \u001b[0mbatch_axis\u001b[0m\u001b[0;34m=\u001b[0m\u001b[0;36m0\u001b[0m\u001b[0;34m)\u001b[0m\u001b[0;34m\u001b[0m\u001b[0m\n",
      "\u001b[0;32m~/.local/lib/python3.5/site-packages/mxnet/gluon/utils.py\u001b[0m in \u001b[0;36msplit_and_load\u001b[0;34m(data, ctx_list, batch_axis, even_split)\u001b[0m\n\u001b[1;32m    109\u001b[0m     \u001b[0;32mif\u001b[0m \u001b[0;32mnot\u001b[0m \u001b[0misinstance\u001b[0m\u001b[0;34m(\u001b[0m\u001b[0mdata\u001b[0m\u001b[0;34m,\u001b[0m \u001b[0mndarray\u001b[0m\u001b[0;34m.\u001b[0m\u001b[0mNDArray\u001b[0m\u001b[0;34m)\u001b[0m\u001b[0;34m:\u001b[0m\u001b[0;34m\u001b[0m\u001b[0m\n\u001b[1;32m    110\u001b[0m         \u001b[0mdata\u001b[0m \u001b[0;34m=\u001b[0m \u001b[0mndarray\u001b[0m\u001b[0;34m.\u001b[0m\u001b[0marray\u001b[0m\u001b[0;34m(\u001b[0m\u001b[0mdata\u001b[0m\u001b[0;34m,\u001b[0m \u001b[0mctx\u001b[0m\u001b[0;34m=\u001b[0m\u001b[0mctx_list\u001b[0m\u001b[0;34m[\u001b[0m\u001b[0;36m0\u001b[0m\u001b[0;34m]\u001b[0m\u001b[0;34m)\u001b[0m\u001b[0;34m\u001b[0m\u001b[0m\n\u001b[0;32m--> 111\u001b[0;31m     \u001b[0;32mif\u001b[0m \u001b[0mlen\u001b[0m\u001b[0;34m(\u001b[0m\u001b[0mctx_list\u001b[0m\u001b[0;34m)\u001b[0m \u001b[0;34m==\u001b[0m \u001b[0;36m1\u001b[0m\u001b[0;34m:\u001b[0m\u001b[0;34m\u001b[0m\u001b[0m\n\u001b[0m\u001b[1;32m    112\u001b[0m         \u001b[0;32mreturn\u001b[0m \u001b[0;34m[\u001b[0m\u001b[0mdata\u001b[0m\u001b[0;34m.\u001b[0m\u001b[0mas_in_context\u001b[0m\u001b[0;34m(\u001b[0m\u001b[0mctx_list\u001b[0m\u001b[0;34m[\u001b[0m\u001b[0;36m0\u001b[0m\u001b[0;34m]\u001b[0m\u001b[0;34m)\u001b[0m\u001b[0;34m]\u001b[0m\u001b[0;34m\u001b[0m\u001b[0m\n\u001b[1;32m    113\u001b[0m \u001b[0;34m\u001b[0m\u001b[0m\n",
      "\u001b[0;31mTypeError\u001b[0m: object of type 'Context' has no len()"
     ]
    }
   ],
   "source": [
    "with mx.Context(gpu_ctx):\n",
    "    \n",
    "    net.collect_params().reset_ctx(gpu_ctx)  # gpu_ctx\n",
    "    \n",
    "    trainer = gluon.Trainer(\n",
    "        net.collect_params(), 'sgd',\n",
    "        {'learning_rate': 0.001, 'wd': 0.0005, 'momentum': 0.9})\n",
    "\n",
    "    mbox_loss = gcv.loss.SSDMultiBoxLoss()\n",
    "    ce_metric = mx.metric.Loss('CrossEntropy')\n",
    "    smoothl1_metric = mx.metric.Loss('SmoothL1')\n",
    "\n",
    "\n",
    "    for epoch in range(0, 10):\n",
    "        ce_metric.reset()\n",
    "        smoothl1_metric.reset()\n",
    "        tic = time.time()\n",
    "        btic = time.time()\n",
    "        net.hybridize(static_alloc=True, static_shape=True)\n",
    "        \n",
    "\n",
    "        for i, batch in enumerate(train_data):\n",
    "            batch_size = batch[0].shape[0]\n",
    "            data = gluon.utils.split_and_load(batch[0], ctx_list=ctx, batch_axis=0)\n",
    "            cls_targets = gluon.utils.split_and_load(batch[1], ctx_list=ctx, batch_axis=0)\n",
    "            box_targets = gluon.utils.split_and_load(batch[2], ctx_list=ctx, batch_axis=0)\n",
    "            with autograd.record():\n",
    "                cls_preds = []\n",
    "                box_preds = []\n",
    "                for x in data:\n",
    "                    cls_pred, box_pred, _ = net(x)\n",
    "                    cls_preds.append(cls_pred)\n",
    "                    box_preds.append(box_pred)\n",
    "                sum_loss, cls_loss, box_loss = mbox_loss(\n",
    "                    cls_preds, box_preds, cls_targets, box_targets)\n",
    "                autograd.backward(sum_loss)\n",
    "            # since we have already normalized the loss, we don't want to normalize\n",
    "            # by batch-size anymore\n",
    "            trainer.step(1)\n",
    "            ce_metric.update(0, [l * batch_size for l in cls_loss])\n",
    "            smoothl1_metric.update(0, [l * batch_size for l in box_loss])\n",
    "            name1, loss1 = ce_metric.get()\n",
    "            name2, loss2 = smoothl1_metric.get()\n",
    "            if i % 20 == 0:\n",
    "                print('[Epoch {}][Batch {}], Speed: {:.3f} samples/sec, {}={:.3f}, {}={:.3f}'.format(\n",
    "                    epoch, i, batch_size/(time.time()-btic), name1, loss1, name2, loss2))\n",
    "            btic = time.time()"
   ]
  },
  {
   "cell_type": "code",
   "execution_count": null,
   "metadata": {
    "ExecuteTime": {
     "end_time": "2018-11-15T07:27:16.629742Z",
     "start_time": "2018-11-15T07:27:45.413Z"
    },
    "collapsed": true
   },
   "outputs": [],
   "source": [
    "net.save_parameters('ssd_512_resnet50_v1_voc.insect.params')"
   ]
  },
  {
   "cell_type": "markdown",
   "metadata": {},
   "source": [
    "###  4.读取网络参数，run测试集并出结果"
   ]
  },
  {
   "cell_type": "code",
   "execution_count": null,
   "metadata": {
    "ExecuteTime": {
     "end_time": "2018-11-15T07:27:16.630432Z",
     "start_time": "2018-11-15T07:27:45.415Z"
    },
    "collapsed": true
   },
   "outputs": [],
   "source": [
    "# test_url = 'https://raw.githubusercontent.com/zackchase/mxnet-the-straight-dope/master/img/pikachu.jpg'\n",
    "# download(test_url, 'pikachu_test.jpg')\n",
    "# net = gcv.model_zoo.get_model('ssd_512_mobilenet1.0_custom', classes=classes, pretrained_base=False)\n"
   ]
  },
  {
   "cell_type": "code",
   "execution_count": null,
   "metadata": {
    "ExecuteTime": {
     "end_time": "2018-11-15T07:27:16.631150Z",
     "start_time": "2018-11-15T07:27:45.416Z"
    },
    "collapsed": true
   },
   "outputs": [],
   "source": [
    "net.load_parameters('ssd_512_resnet50_v1_voc.insect.params')\n",
    "\n",
    "x, image = gcv.data.transforms.presets.ssd.load_test('pikachu_test.jpg', 512)\n",
    "cid, score, bbox = net(x)\n",
    "ax = viz.plot_bbox(image, bbox[0], score[0], cid[0], class_names=classes)\n",
    "plt.show()"
   ]
  }
 ],
 "metadata": {
  "kernelspec": {
   "display_name": "python3.5",
   "language": "python",
   "name": "python3.5"
  },
  "language_info": {
   "codemirror_mode": {
    "name": "ipython",
    "version": 3
   },
   "file_extension": ".py",
   "mimetype": "text/x-python",
   "name": "python",
   "nbconvert_exporter": "python",
   "pygments_lexer": "ipython3",
   "version": "3.5.5"
  }
 },
 "nbformat": 4,
 "nbformat_minor": 2
}
